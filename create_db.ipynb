{
 "cells": [
  {
   "cell_type": "code",
   "execution_count": 2,
   "metadata": {},
   "outputs": [],
   "source": [
    "import pandas as pd\n",
    "import numpy as np\n",
    "from random import randint\n",
    "\n",
    "\n",
    "bank = pd.DataFrame({'client_id': np.arange(1, 4119), 'age': np.random.randint(18, 100, 4118),\n",
    "    'job': np.random.choice(['admin.', 'blue-collar', 'unemployed', 'unknown'], 4118),\n",
    "    'marital': np.random.choice(['married', 'single', 'unknown'], 4118),\n",
    "    'education': np.random.choice(['basic.4y', 'basic.9y', 'unknown'], 4118), \n",
    "    'credit_default': np.random.choice(['no', 'yes', 'unknown'], 4118),\n",
    "    'housing': np.random.choice(['no', 'yes', 'unknown'], 4118), 'loan': np.random.choice(['no', 'yes', 'unknown'], 4118),\n",
    "    'contact': np.random.choice(['cellular', 'telephone'], 4118), 'month': np.random.choice(['mar', 'may', 'sep'], 4118),\n",
    "    'day': np.random.randint(1, 31, 4118), 'duration': np.random.randint(0, 1000, 4118),\n",
    "    'campaign': np.random.randint(1, 10, 4118), 'pdays': np.random.randint(0, 1000, 4118),\n",
    "    'previous': np.random.randint(0, 1000, 4118), 'poutcome': np.random.choice(['failure', 'nonexistent', 'success'], 4118),\n",
    "    'emp_var_rate': np.random.randint(-3, 3, 4118), 'cons_price_idx': np.random.randint(92, 95, 4118),\n",
    "    'cons_conf_idx': np.random.randint(-50, -30, 4118), 'euribor3m': np.random.randint(0, 5, 4118),\n",
    "    'nr_employed': np.random.randint(5000, 6000, 4118), 'y': np.random.choice(['no', 'yes'], 4118)})\n",
    "\n",
    "bank.to_csv('bank_marketing.csv', index=False)\n",
    "\n",
    "\n",
    "\n",
    "\n"
   ]
  }
 ],
 "metadata": {
  "kernelspec": {
   "display_name": "Python 3",
   "language": "python",
   "name": "python3"
  },
  "language_info": {
   "codemirror_mode": {
    "name": "ipython",
    "version": 3
   },
   "file_extension": ".py",
   "mimetype": "text/x-python",
   "name": "python",
   "nbconvert_exporter": "python",
   "pygments_lexer": "ipython3",
   "version": "3.10.0"
  },
  "orig_nbformat": 4
 },
 "nbformat": 4,
 "nbformat_minor": 2
}
