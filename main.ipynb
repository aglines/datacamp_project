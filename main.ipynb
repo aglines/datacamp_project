{
 "cells": [
  {
   "cell_type": "code",
   "execution_count": 4,
   "metadata": {},
   "outputs": [],
   "source": [
    "\n",
    "import pandas as pd\n",
    "import numpy as np\n",
    "\n",
    "\n",
    "#     Add a column called campaign_id in campaign, where all rows have a value of 1.\n",
    "#     Create a datetime column called last_contact_date, in the format of \"year-month-day\", where the year is 2022, and the month and day values are taken from the \"month\" and \"day\" columns.\n",
    "#     Remove any redundant data that might have been used to create new columns, ensuring the columns in each subset of the data match the table displayed in the notebook.\n",
    "#     Save the three DataFrames to csv files without an index as client.csv, campaign.csv, and economics.csv respectively.\n",
    "#     Create a variable called client_table, containing SQL code as a string to create a table called client using values from client.csv.\n",
    "#     Create a variable called campaign_table, containing SQL code as a string to create a table called campaign using values from campaign.csv.\n",
    "#     Create a variable called economics_table, containing SQL code as a string to create a table called economics using values from economics.csv.\n",
    "#     In client, campaign, and economic, ensure the final line copies the data from their respective csv files using the following code snippet:\n",
    "# \\copy table_name from 'file_name.csv' DELIMITER ',' CSV HEADER\n",
    "#     Click the \"Submit Project\" button to check your answer!\n",
    "\n",
    "#     Read in bank_marketing.csv as a pandas DataFrame.#  \n",
    "bank = pd.read_csv('bank_marketing.csv')\n",
    "\n",
    "#  Rename the column \"client_id\" to \"id\" in client (leave as-is in the other subsets)\n",
    "client = bank[['client_id', 'age', 'job', 'marital', 'education', 'credit_default', 'housing', 'loan']]\n",
    "client.rename(columns={'client_id': 'id'}, inplace=True)\n",
    "#  Rename \"duration\" to \"contact_duration\", \"previous\" to \"previous_campaign_contacts\", \n",
    "# # \"y\" to \"campaign_outcome\", \"poutcome\" to \"previous_outcome\", and \"campaign\" to \"number_contacts\" in campaign\n",
    "campaign = bank[['client_id', 'contact', 'duration', 'campaign', 'pdays', 'previous', 'poutcome', 'y']]\n",
    "campaign.rename(columns={'duration': 'contact_duration', 'previous': 'previous_campaign_contacts', 'y': 'campaign_outcome', 'poutcome': 'previous_outcome', 'campaign': 'number_contacts'}, inplace=True)\n",
    "#  and \"euribor3m\" to \"euribor_three_months\" and \"nr_employed\" to \"number_employed\" in economics.\n",
    "economics = bank[['client_id', 'emp_var_rate', 'cons_price_idx', 'euribor3m', 'nr_employed']]\n",
    "economics.rename(columns={'euribor3m': 'euribor_three_months', 'nr_employed': 'number_employed'}, inplace=True)\n",
    "\n",
    "#  Clean the \"education\" column, changing \".\" to \"_\" and \"unknown\" to NumPy's null values.\n",
    "client['education'] = client['education'].str.replace('.', '_')\n",
    "client['education'] = client['education'].replace('unknown', np.nan)\n",
    "#     Remove periods from the \"job\" column.\n",
    "client['job'] = client['job'].str.replace('.', '')\n",
    "\n",
    "#     Convert \"success\" and \"failure\" in the \"previous_outcome\" and \"campaign_outcome\" columns to binary (1 or 0), along with the changing \"nonexistent\" to NumPy's null values in \"previous_outcome\".\n",
    "campaign['previous_outcome'] = campaign['previous_outcome'].replace({'success': 1, 'failure': 0, 'nonexistent': np.nan})\n",
    "campaign['campaign_outcome'] = campaign['campaign_outcome'].replace({'success': 1, 'failure': 0})\n"
   ]
  },
  {
   "cell_type": "code",
   "execution_count": 1,
   "metadata": {},
   "outputs": [],
   "source": [
    "# Index(['client_id', 'age', 'job', 'marital', 'education', 'credit_default', 'housing', 'loan',\n",
    "\n",
    "#       'contact', 'month', 'day', 'duration', 'campaign',  'pdays', 'previous', 'poutcome', \n",
    "#       \n",
    "#       'emp_var_rate', 'cons_price_idx',  'cons_conf_idx', 'euribor3m', 'nr_employed', 'y']\n"
   ]
  }
 ],
 "metadata": {
  "kernelspec": {
   "display_name": "Python 3",
   "language": "python",
   "name": "python3"
  },
  "language_info": {
   "codemirror_mode": {
    "name": "ipython",
    "version": 3
   },
   "file_extension": ".py",
   "mimetype": "text/x-python",
   "name": "python",
   "nbconvert_exporter": "python",
   "pygments_lexer": "ipython3",
   "version": "3.10.0"
  },
  "orig_nbformat": 4
 },
 "nbformat": 4,
 "nbformat_minor": 2
}
